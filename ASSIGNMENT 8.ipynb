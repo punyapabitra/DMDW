{
 "cells": [
  {
   "cell_type": "code",
   "execution_count": 1,
   "id": "7f9005ec",
   "metadata": {},
   "outputs": [],
   "source": [
    "import numpy as np\n",
    "import pandas as pd\n",
    "from sklearn.metrics import confusion_matrix\n",
    "from sklearn.tree import DecisionTreeClassifier\n",
    "from sklearn.metrics import accuracy_score\n",
    "from sklearn.metrics import classification_report"
   ]
  },
  {
   "cell_type": "code",
   "execution_count": 17,
   "id": "7711ad54",
   "metadata": {},
   "outputs": [
    {
     "ename": "SyntaxError",
     "evalue": "invalid non-printable character U+00A0 (2564152854.py, line 2)",
     "output_type": "error",
     "traceback": [
      "\u001b[1;36m  Cell \u001b[1;32mIn[17], line 2\u001b[1;36m\u001b[0m\n\u001b[1;33m    PLAY_TENNIS=pd.read_csv()\u001b[0m\n\u001b[1;37m    ^\u001b[0m\n\u001b[1;31mSyntaxError\u001b[0m\u001b[1;31m:\u001b[0m invalid non-printable character U+00A0\n"
     ]
    }
   ],
   "source": [
    "def importdata():\n",
    "    PLAY_TENNIS=pd.read_csv()\n",
    "    print(\"Dataset Length: \", len(PLAY_TENNIS))\n",
    "    print(\"Dataset Shape: \", PLAY_TENNIS.shape)\n",
    "    print(\"Dataset: \", PLAY_TENNIS.head())\n",
    "    return PLAY_TENNIS"
   ]
  },
  {
   "cell_type": "code",
   "execution_count": 18,
   "id": "c1826692",
   "metadata": {},
   "outputs": [],
   "source": [
    "def splitdataset(PLAY_TENNIS):\n",
    "    X = balance_data.values[:, 1:5]\n",
    "    Y = balance_data.values[:, 0]\n",
    "    X_train, X_test, y_train, y_test = train_test_split(\n",
    "        X, Y, test_size=0.3, random_state=100)\n",
    "\n",
    "    return X, Y, X_train, X_test, y_train, y_test\n"
   ]
  },
  {
   "cell_type": "code",
   "execution_count": 20,
   "id": "81973106",
   "metadata": {},
   "outputs": [],
   "source": [
    "def train_using_gini(X_train, X_test, y_train):\n",
    "    clf_gini = DecisionTreeClassifier(criterion=\"gini\",\n",
    "                                      random_state=100, max_depth=3, min_samples_leaf=5)\n",
    "\n",
    "    clf_gini.fit(X_train, y_train)\n",
    "    return clf_gini\n"
   ]
  },
  {
   "cell_type": "code",
   "execution_count": 21,
   "id": "60d0bdd3",
   "metadata": {},
   "outputs": [],
   "source": [
    "def train_using_entropy(X_train, X_test, y_train):\n",
    "    clf_entropy = DecisionTreeClassifier(\n",
    "        criterion=\"entropy\", random_state=100, max_depth=3, min_samples_leaf=5)\n",
    "\n",
    "    clf_entropy.fit(X_train, y_train)\n",
    "    return clf_entropy\n"
   ]
  },
  {
   "cell_type": "code",
   "execution_count": 22,
   "id": "06c7170a",
   "metadata": {},
   "outputs": [],
   "source": [
    "def prediction(X_test, clf_object):\n",
    "    # Prediction on test with Gini Index\n",
    "    y_pred = clf_object.predict(X_test)\n",
    "    print(\"Predicted values:\")\n",
    "    print(y_pred)\n",
    "    return y_pred\n"
   ]
  },
  {
   "cell_type": "code",
   "execution_count": 23,
   "id": "3cb96d93",
   "metadata": {},
   "outputs": [],
   "source": [
    "def cal_accuracy(y_test, y_pred):\n",
    "    print(\"Confusion Matrix: \", confusion_matrix(y_test, y_pred))\n",
    "\n",
    "    print(\"Accuracy : \", accuracy_score(y_test, y_pred) * 100)\n",
    "\n",
    "    print(\"Report : \", classification_report(y_test, y_pred))\n",
    "\n"
   ]
  },
  {
   "cell_type": "code",
   "execution_count": 24,
   "id": "b5fbbb51",
   "metadata": {},
   "outputs": [],
   "source": [
    "def main():\n",
    "    # Building Phase\n",
    "    data = importdata()\n",
    "    X, Y, X_train, X_test, y_train, y_test = splitdataset(data)\n",
    "    clf_gini = train_using_gini(X_train, X_test, y_train)\n",
    "    clf_entropy = train_using_entropy(X_train, X_test, y_train)\n",
    "    print(\"Results Using Gini Index:\")\n",
    "\n",
    "    y_pred_gini = prediction(X_test, clf_gini)\n",
    "    cal_accuracy(y_test, y_pred_gini)\n",
    "\n",
    "    print(\"Results Using Entropy:\")\n",
    "    y_pred_entropy = prediction(X_test, clf_entropy)\n",
    "    cal_accuracy(y_test, y_pred_entropy)\n"
   ]
  },
  {
   "cell_type": "code",
   "execution_count": null,
   "id": "09c34df0",
   "metadata": {},
   "outputs": [],
   "source": []
  }
 ],
 "metadata": {
  "kernelspec": {
   "display_name": "Python 3 (ipykernel)",
   "language": "python",
   "name": "python3"
  },
  "language_info": {
   "codemirror_mode": {
    "name": "ipython",
    "version": 3
   },
   "file_extension": ".py",
   "mimetype": "text/x-python",
   "name": "python",
   "nbconvert_exporter": "python",
   "pygments_lexer": "ipython3",
   "version": "3.10.9"
  }
 },
 "nbformat": 4,
 "nbformat_minor": 5
}
